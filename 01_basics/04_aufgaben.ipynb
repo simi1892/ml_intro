{
 "cells": [
  {
   "cell_type": "markdown",
   "metadata": {},
   "source": [
    "# Gibt es sinnvolle Aufgaben?\n",
    "\n",
    "- Schauen: https://www.youtube.com/watch?v=iR2O2GPbB0E"
   ]
  }
 ],
 "metadata": {
  "language_info": {
   "name": "python"
  }
 },
 "nbformat": 4,
 "nbformat_minor": 2
}
