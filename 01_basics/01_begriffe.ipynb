{
 "cells": [
  {
   "cell_type": "markdown",
   "metadata": {},
   "source": [
    "# Fundamentale Konzepte von Machine Learning 📚\n",
    "\n",
    "In diesem Pytohn Notebook lernen wir Algorithmen kennen, welche aus Daten lernen und Muster erkennen.\n",
    "Wir fokussieren uns auf das Konzept dahinter und probieren die Mathe grosszügig zu umschiffen wo möglich.\n",
    "So erhalten wir ein Verständnis, wie etwas passiert, allerdings können wir es nicht begründen."
   ]
  },
  {
   "cell_type": "markdown",
   "metadata": {},
   "source": [
    "## Begriffe der KI 📖\n",
    "\n",
    "TODO: Syncen mit Mermaid unten\n",
    "\n",
    "- **Künstliche Intelligenz (KI)**: Systeme, die menschenähnliche kognitive Funktionen nachahmen.\n",
    "- **Maschinelles Lernen (ML)**: Algorithmen, die aus Daten lernen und Muster erkennen.\n",
    "- **Neuronale Netze**: Modellierung biologischer Gehirnstrukturen für komplexe Aufgaben.\n",
    "- **Deep Learning**: Verwendung tiefer neuronaler Netze für hochkomplexe Probleme."
   ]
  },
  {
   "cell_type": "code",
   "execution_count": 5,
   "metadata": {},
   "outputs": [
    {
     "data": {
      "text/html": [
       "<img src=\"https://mermaid.ink/img/CmdyYXBoIFREOwogICAgS0lbIjxiPkvDvG5zdGxpY2hlIEludGVsbGlnZW56IChLSSk8L2I-CktJIGlzdCBlaW4gQmVyZWljaCBkZXIgSW5mb3JtYXRpaywgZGVyIHNpY2ggbWl0IGRlciBTaW11bGF0aW9uIG1lbnNjaGxpY2hlciBJbnRlbGxpZ2VueiBkdXJjaCBNYXNjaGluZW4gYmVmYXNzdC4iXQogICAgTUxbIjxiPk1hc2NoaW5lbGxlcyBMZXJuZW4gKE1MKTwvYj4KTUwgaXN0IGVpbiBUZWlsZ2ViaWV0IGRlciBLSSwgZGFzIEFsZ29yaXRobWVuIG51dHp0LCB1bSBhdXMgRGF0ZW4genUgbGVybmVuIHVuZCBWb3JoZXJzYWdlbiB6dSB0cmVmZmVuLiJdCiAgICBETFsiPGI-RGVlcCBMZWFybmluZyAoREwpPC9iPgpETCBpc3QgZWluZSBzcGV6aWVsbGUgRm9ybSBkZXMgTUwsIGRpZSB0aWVmZSBuZXVyb25hbGUgTmV0emUgdmVyd2VuZGV0LCB1bSBrb21wbGV4ZSBNdXN0ZXIgenUgZXJrZW5uZW4uIl0KICAgIE5MUFsiPGI-TmF0dXJhbCBMYW5ndWFnZSBQcm9jZXNzaW5nIChOTFApPC9iPgpOTFAgZXJtw7ZnbGljaHQgTWFzY2hpbmVuIGRhcyBWZXJzdGVoZW4sIEludGVycHJldGllcmVuIHVuZCBFcnpldWdlbiBuYXTDvHJsaWNoZXIgU3ByYWNoZS4iXQogICAgQ1ZbIjxiPkNvbXB1dGVyIFZpc2lvbiAoQ1YpPC9iPgpDViBiZXNjaMOkZnRpZ3Qgc2ljaCBtaXQgZGVyIGF1dG9tYXRpc2llcnRlbiBWZXJhcmJlaXR1bmcgdW5kIEFuYWx5c2Ugdm9uIEJpbGRlcm4gdW5kIFZpZGVvcy4iXQogICAgUkxbIjxiPlJlaW5mb3JjZW1lbnQgTGVhcm5pbmcgKFJMKTwvYj4KUkwgaXN0IGVpbmUgTWV0aG9kZSBkZXMgTUwsIGJlaSBkZXIgZWluIEFnZW50IGR1cmNoIEJlbG9obnVuZyBvZGVyIEJlc3RyYWZ1bmcgbGVybnQuIl0KICAgIE5OWyI8Yj5OZXVyb25hbGUgTmV0emUgKE5OKTwvYj4KTk4gc2luZCB2b24gYmlvbG9naXNjaGVuIEdlaGlybnN0cnVrdHVyZW4gaW5zcGlyaWVydGUgTW9kZWxsZSB6dXIgTXVzdGVyZXJrZW5udW5nLiJdCiAgICAKICAgIEtJIC0tPiBNTDsKICAgIE1MIC0tPiBETDsKICAgIE1MIC0tPiBSTDsKICAgIEtJIC0tPiBOTFA7CiAgICBLSSAtLT4gQ1Y7CiAgICBETCAtLT4gTk47Cgo=\"/>"
      ],
      "text/plain": [
       "<IPython.core.display.Image object>"
      ]
     },
     "metadata": {},
     "output_type": "display_data"
    }
   ],
   "source": [
    "import base64\n",
    "from IPython.display import Image, display\n",
    "import matplotlib.pyplot as plt\n",
    "\n",
    "def mm(graph):\n",
    "    graphbytes = graph.encode(\"utf8\")\n",
    "    base64_bytes = base64.urlsafe_b64encode(graphbytes)\n",
    "    base64_string = base64_bytes.decode(\"ascii\")\n",
    "    display(Image(url=\"https://mermaid.ink/img/\" + base64_string))\n",
    "\n",
    "mm(\"\"\"\n",
    "graph TD;\n",
    "    KI[\"<b>Künstliche Intelligenz (KI)</b>\\nKI ist ein Bereich der Informatik, der sich mit der Simulation menschlicher Intelligenz durch Maschinen befasst.\"]\n",
    "    ML[\"<b>Maschinelles Lernen (ML)</b>\\nML ist ein Teilgebiet der KI, das Algorithmen nutzt, um aus Daten zu lernen und Vorhersagen zu treffen.\"]\n",
    "    DL[\"<b>Deep Learning (DL)</b>\\nDL ist eine spezielle Form des ML, die tiefe neuronale Netze verwendet, um komplexe Muster zu erkennen.\"]\n",
    "    NLP[\"<b>Natural Language Processing (NLP)</b>\\nNLP ermöglicht Maschinen das Verstehen, Interpretieren und Erzeugen natürlicher Sprache.\"]\n",
    "    CV[\"<b>Computer Vision (CV)</b>\\nCV beschäftigt sich mit der automatisierten Verarbeitung und Analyse von Bildern und Videos.\"]\n",
    "    RL[\"<b>Reinforcement Learning (RL)</b>\\nRL ist eine Methode des ML, bei der ein Agent durch Belohnung oder Bestrafung lernt.\"]\n",
    "    NN[\"<b>Neuronale Netze (NN)</b>\\nNN sind von biologischen Gehirnstrukturen inspirierte Modelle zur Mustererkennung.\"]\n",
    "    \n",
    "    KI --> ML;\n",
    "    ML --> DL;\n",
    "    ML --> RL;\n",
    "    KI --> NLP;\n",
    "    KI --> CV;\n",
    "    DL --> NN;\n",
    "\n",
    "\"\"\")"
   ]
  }
 ],
 "metadata": {
  "kernelspec": {
   "display_name": ".venv (3.13.2)",
   "language": "python",
   "name": "python3"
  },
  "language_info": {
   "codemirror_mode": {
    "name": "ipython",
    "version": 3
   },
   "file_extension": ".py",
   "mimetype": "text/x-python",
   "name": "python",
   "nbconvert_exporter": "python",
   "pygments_lexer": "ipython3",
   "version": "3.13.2"
  }
 },
 "nbformat": 4,
 "nbformat_minor": 2
}
