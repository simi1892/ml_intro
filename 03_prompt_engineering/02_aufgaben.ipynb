{
 "cells": [
  {
   "cell_type": "markdown",
   "metadata": {},
   "source": [
    "# Aufgaben 📋\n",
    "\n",
    "Die Übungen werden in zweier Gruppen gelöst und anschliessend im Plenum diskutiert."
   ]
  },
  {
   "cell_type": "markdown",
   "metadata": {},
   "source": [
    "## Prompts verbessern\n",
    "Ausgangssituation: Gegeben sind schwache Prompts, die verbessert werden sollen.\n",
    "\n",
    "- Schwach: \"Erkläre mir KI.\"\n",
    "- Aufgabe: Formuliere diesen Prompt präziser und mit mehr Kontext.\n",
    "\n",
    "---\n",
    "\n",
    "- Schwach: \"Schreibe ein Programm.\"\n",
    "- Aufgabe: Spezifiziere, welche Art von Programm, in welcher Sprache und mit welcher Funktionalität.\n",
    "\n",
    "---\n",
    "\n",
    "- Schwach: \"Gib mir Tipps zum Lernen.\"\n",
    "- Aufgabe: Konkretisiere für ein bestimmtes Fach und eine bestimmte Situation."
   ]
  },
  {
   "cell_type": "markdown",
   "metadata": {},
   "source": [
    "## Role Prompting anwenden\n",
    "\n",
    "Formuliere für jede der folgenden Situationen einen Role Prompt:\n",
    "\n",
    "- Du brauchst Hilfe bei der Fehlersuche in einem Python-Programm.\n",
    "- Du möchtest einen komplexen technischen Sachverhalt für Laien erklärt bekommen (z.B. Was sind Lamda Expressions in Java ☕️).\n",
    "- Du benötigst einen kreativen Ansatz für ein Webdesign-Problem."
   ]
  },
  {
   "cell_type": "markdown",
   "metadata": {},
   "source": [
    "## Few Shot Learning\n",
    "\n",
    "Erstelle einen Few-Shot Prompt mit 2-3 Beispielen für folgende Szenarien:\n",
    "\n",
    "- Automatisches Generieren von Commit-Messages für Code-Änderungen\n",
    "- Ausfüllen der Lerndokumentation"
   ]
  },
  {
   "cell_type": "markdown",
   "metadata": {},
   "source": [
    "## Step-by-Step Prompting\n",
    "\n",
    "Schreibe einen Prompt, der das LLM anweist, eine schrittweise Lösung zu erstellen für:\n",
    "\n",
    "- Die Entwicklung einer einfachen Web-Anwendung mit HTML/CSS/JavaScript\n",
    "- Die Konfiguration eines lokalen Entwicklungsservers"
   ]
  },
  {
   "cell_type": "markdown",
   "metadata": {},
   "source": [
    "## Constraints nutzen\n",
    "\n",
    "Formuliere Prompts mit spezifischen Einschränkungen:\n",
    "\n",
    "- Eine Erklärung des OSI-Modells in genau 150 Wörtern\n",
    "- Eine Anleitung zum Erstellen einer Datenbank mit höchstens 5 Schritten\n",
    "- Ein Vergleich von drei Programmiersprachen in Tabellenform"
   ]
  },
  {
   "cell_type": "markdown",
   "metadata": {},
   "source": [
    "## Herausforderungen und Grenzen erkunden\n",
    "\n",
    "- Versuche, einen Prompt zu erstellen, der das LLM dazu bringt, eine falsche Antwort zu geben (z.B. \"2+2=5\").\n",
    "- Analysiere, warum das Modell die Antwort verweigert oder korrigiert.\n",
    "- Diskutiere die ethischen Implikationen und Sicherheitsmassnahmen in LLMs."
   ]
  }
 ],
 "metadata": {
  "language_info": {
   "name": "python"
  }
 },
 "nbformat": 4,
 "nbformat_minor": 2
}
