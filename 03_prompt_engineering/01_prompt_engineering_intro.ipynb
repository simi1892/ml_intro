{
 "cells": [
  {
   "cell_type": "markdown",
   "metadata": {},
   "source": [
    "# Einführung ins Prompt Engineering 💭\n",
    "\n",
    "Schaue zum Start das Video: https://www.youtube.com/watch?v=iR2O2GPbB0E\n",
    "\n",
    "Wie wir im Video gesehen haben, funktioniert ein LLM wie ChatGPT, Deepseek, etc. so, dass sie immer das nächst beste Wort vorhersagen.\n",
    "\n",
    "Der Input $Der Himmel ist$ führt zum Output $blau$.\n",
    "\n",
    "Jedes LLM erhält im Hintergrund eine sogenannte Instruction. Diese bestimmt die Verhaltensweise des Modells – wie höflich, professionell oder hilfreich es ist.\n",
    "\n",
    "Was genau als Instruction mitgegeben wird, ist nicht öffentlich. Es sieht vermutlich in etwa so aus:\n",
    "\n",
    "---\n",
    "```\n",
    "You are a helpful, friendly, and professional AI assistant. Your goal is to provide clear, accurate, and relevant responses to the user’s questions while maintaining a respectful and engaging conversation. You should:\n",
    "\n",
    "Be informative but concise, avoiding unnecessary complexity.\n",
    "Adapt to the user’s tone and preferences.\n",
    "Uphold ethical principles by avoiding harmful, biased, or misleading information.\n",
    "Respect privacy and avoid requesting personal data.\n",
    "Encourage critical thinking by offering sources or explanations where relevant.\n",
    "You should always prioritize accuracy, user safety, and constructive engagement.\n",
    "```\n",
    "---\n",
    "\n",
    "Hier gibt es weiterführende Infos zu Instructions: https://help.openai.com/en/articles/9358033-key-guidelines-for-writing-instructions-for-custom-gpts"
   ]
  },
  {
   "cell_type": "markdown",
   "metadata": {},
   "source": [
    "## Arten von Prompts\n",
    "\n",
    "Ein Prompt ist die Eingabe, die wir dem LLM geben, um eine Antwort zu erhalten.\n",
    "⚠️ Die folgende Liste ist eine Annäherung, welche Prompt-Arten es gibt. Es ist allerdings nicht eine Liste gemäss einem offiziellen Standard, sondern von verschiedenen Internetquellen zusammengetragen.\n",
    "\n",
    "Es gibt verschiedene Arten von Prompts:\n",
    "\n",
    "### 1\\. Standard-Prompts\n",
    "- Einfache Fragen oder Anfragen, z. B.:\n",
    "- \"Was ist der höchste Berg der Welt?\"\n",
    "\n",
    "### 2\\. Role-Prompts\n",
    "- Man gibt dem Modell eine Rolle vor, z. B.:\n",
    "- \"Du bist ein Physiklehrer. Erkläre mir die Relativitätstheorie einfach.\"\n",
    "\n",
    "### 3\\. Step-by-Step-Prompts\n",
    "- Man bittet um eine schrittweise Erklärung, z. B.:\n",
    "- \"Erkläre mir Schritt für Schritt, wie ein Auto funktioniert.\"\n",
    "\n",
    "### 4\\. Few-shot-Prompts\n",
    "- Man gibt Beispiele und bittet um eine ähnliche Antwort, z. B.:\n",
    "- \"Hier sind zwei Beispiele. Erstelle ein drittes in ähnlicher Weise.\"\n",
    "\n",
    "### 5\\. Chain-of-Thought\n",
    "- Fordert das Modell auf, sein Denken offenzulegen\n",
    "- \"Denke Schritt für Schritt durch, wie man dieses mathematische Problem löst.\""
   ]
  },
  {
   "cell_type": "markdown",
   "metadata": {},
   "source": [
    "## Prinzipien für gute Prompts\n",
    "\n",
    "Damit ein LLM gute Antworten liefert, sollten Prompts folgende Prinzipien berücksichtigen:\n",
    "\n",
    "- Präzise sein: \"Erkläre Quantenmechanik für 10-Jährige.\" ist besser als \"Erkläre Quantenmechanik.\"\n",
    "- Kontext bereitstellen: \"Erkläre die Relativitätstheorie im Kontext der modernen Physik.\"\n",
    "- Schrittweise Anweisungen geben: \"Beschreibe in fünf Schritten, wie ein Computer funktioniert.\"\n",
    "- Beispiele geben: \"Hier sind zwei Beispiele für eine gelungene Zusammenfassung. Schreibe eine dritte im gleichen Stil.\"\n",
    "- Constraints nutzen: \"Antworte in maximal 100 Wörtern.\"\n",
    "- Struktur vorgeben: \"Gib eine Liste mit 3 Punkten.\"\n",
    "\n",
    "Hier gibt es detailliertere Informationen: https://platform.openai.com/docs/guides/prompt-engineering"
   ]
  }
 ],
 "metadata": {
  "kernelspec": {
   "display_name": ".venv (3.13.2)",
   "language": "python",
   "name": "python3"
  },
  "language_info": {
   "name": "python",
   "version": "3.13.2"
  }
 },
 "nbformat": 4,
 "nbformat_minor": 2
}
